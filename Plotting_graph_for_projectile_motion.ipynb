{
  "nbformat": 4,
  "nbformat_minor": 0,
  "metadata": {
    "colab": {
      "name": "Plotting graph for projectile motion.ipynb",
      "provenance": [],
      "authorship_tag": "ABX9TyMszHYHf0XleDB2nGcIbHof",
      "include_colab_link": true
    },
    "kernelspec": {
      "name": "python3",
      "display_name": "Python 3"
    },
    "language_info": {
      "name": "python"
    }
  },
  "cells": [
    {
      "cell_type": "markdown",
      "metadata": {
        "id": "view-in-github",
        "colab_type": "text"
      },
      "source": [
        "<a href=\"https://colab.research.google.com/github/aashnijoshi/ProjectileMotion/blob/main/Plotting_graph_for_projectile_motion.ipynb\" target=\"_parent\"><img src=\"https://colab.research.google.com/assets/colab-badge.svg\" alt=\"Open In Colab\"/></a>"
      ]
    },
    {
      "cell_type": "code",
      "execution_count": null,
      "metadata": {
        "colab": {
          "base_uri": "https://localhost:8080/",
          "height": 336
        },
        "id": "YVwz8D3VIqin",
        "outputId": "1ca06b2e-095b-435a-9c78-b34bfd784ab8"
      },
      "outputs": [
        {
          "name": "stdout",
          "output_type": "stream",
          "text": [
            "PLEASE ENTER INITIAL VELOCITY\n",
            "30\n",
            "PLEASE ENTER ANGLE WITH HORIZONTAL\n",
            "45\n"
          ]
        },
        {
          "output_type": "display_data",
          "data": {
            "text/plain": [
              "<Figure size 432x288 with 1 Axes>"
            ],
            "image/png": "[encoded data removed]"
          },
          "metadata": {
            "needs_background": "light"
          }
        }
      ],
      "source": [
        "import matplotlib.pyplot as plt\n",
        "import math \n",
        "import numpy as np\n",
        "\n",
        "\n",
        "    \n",
        "def Range(start,end,interval):\n",
        "    num=[]\n",
        "    while start<end:\n",
        "        num.append(start)\n",
        "        start+=interval\n",
        "     \n",
        "    return num    \n",
        "        \n",
        "print(\"PLEASE ENTER INITIAL VELOCITY\")\n",
        "u=float(input())\n",
        "print(\"PLEASE ENTER ANGLE WITH HORIZONTAL\")\n",
        "theta=float(input())\n",
        "\n",
        "g=9.8\n",
        "\n",
        "t=2*u*math.sin(theta*np.pi/180)/g\n",
        "xmax=u*math.cos(theta*np.pi/180)*t\n",
        "ymax=u*math.sin(theta*np.pi/180)*t-0.5*g*t*t\n",
        "\n",
        "\n",
        "intervals=Range(0,t,0.1)\n",
        "\n",
        "x=[]\n",
        "y=[]\n",
        "\n",
        "for t in intervals:\n",
        "    x.append(u*math.cos(theta*np.pi/180)*t)\n",
        "    y.append(u*math.sin(theta*np.pi/180)*t-0.5*g*t*t)\n",
        "    \n",
        "\n",
        "s=max(xmax,ymax)\n",
        "plt.plot(s,s)\n",
        "plt.plot(x,y)        \n",
        "plt.show()\n",
        "    \n",
        "    \n",
        "\n",
        "   \n",
        "\n"
      ]
    }
  ]
}